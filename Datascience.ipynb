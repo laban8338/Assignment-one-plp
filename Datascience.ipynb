{
  "nbformat": 4,
  "nbformat_minor": 0,
  "metadata": {
    "colab": {
      "provenance": [],
      "mount_file_id": "1eiB_UBwqCFd2szgPFvx7g5RH91Fd1Jd6",
      "authorship_tag": "ABX9TyPiOXdOhO4STG1XyOx+vLeW",
      "include_colab_link": true
    },
    "kernelspec": {
      "name": "python3",
      "display_name": "Python 3"
    },
    "language_info": {
      "name": "python"
    }
  },
  "cells": [
    {
      "cell_type": "markdown",
      "metadata": {
        "id": "view-in-github",
        "colab_type": "text"
      },
      "source": [
        "<a href=\"https://colab.research.google.com/github/laban8338/Assignment-one-plp/blob/main/Datascience.ipynb\" target=\"_parent\"><img src=\"https://colab.research.google.com/assets/colab-badge.svg\" alt=\"Open In Colab\"/></a>"
      ]
    },
    {
      "cell_type": "code",
      "source": [
        "import pandas as pd\n",
        "from sklearn.model_selection import train_test_split\n",
        "from sklearn.linear_model import LinearRegression\n",
        "from sklearn.metrics import mean_squared_error\n",
        "\n",
        "data = pd.read_csv('/content/dataset.csv')\n",
        "\n",
        "print(\"Sample Data from the Dataset:\")\n",
        "print(data.head())\n",
        "\n",
        "X = data[['Speed Limit', 'Average Speed', 'Road Surface Condition', 'Road Condition', 'Time of Day', 'Driver Age and experience', 'Alcohol Level', 'Other Environmental Factors']]\n",
        "y = data['Accident Severity Index']\n",
        "\n",
        "print(\"\\nIndependent Variables (X):\")\n",
        "print(X.head())\n",
        "print(\"\\nDependent Variable (y):\")\n",
        "print(y.head())\n",
        "\n",
        "X_train, X_test, y_train, y_test = train_test_split(X, y, test_size=0.2, random_state=42)\n",
        "\n",
        "print(\"\\nShape of X_train:\", X_train.shape)\n",
        "print(\"Shape of X_test:\", X_test.shape)\n",
        "print(\"Shape of y_train:\", y_train.shape)\n",
        "print(\"Shape of y_test:\", y_test.shape)\n",
        "\n",
        "model = LinearRegression()\n",
        "model.fit(X_train, y_train)\n",
        "\n",
        "import joblib\n",
        "joblib.dump(model, 'road_accident_severity_model.pkl')\n",
        "print(\"\\nModel saved as 'road_accident_severity_model.pkl'\")\n",
        "\n",
        "sample_input = [[80, 90, 5, 2, 7,35, 0.05, 3]]\n",
        "\n",
        "predicted_severity = model.predict(sample_input)\n",
        "print(\"\\nPredicted Accident Severity Index:\", predicted_severity)\n"
      ],
      "metadata": {
        "colab": {
          "base_uri": "https://localhost:8080/"
        },
        "id": "idcIx6OL1atu",
        "outputId": "29fbdcde-e235-4eef-a9b9-535ac0c4abc5"
      },
      "execution_count": 20,
      "outputs": [
        {
          "output_type": "stream",
          "name": "stdout",
          "text": [
            "Sample Data from the Dataset:\n",
            "   Speed Limit  Average Speed  Road Surface Condition  Road Condition  \\\n",
            "0           60             65                       4               3   \n",
            "1           40             45                       3               2   \n",
            "2           70             75                       5               2   \n",
            "3           50             55                       4               2   \n",
            "4           80             85                       5               3   \n",
            "\n",
            "   Time of Day  Unnamed: 5  Driver Age and experience  Alcohol Level  \\\n",
            "0            2         NaN                         40           0.00   \n",
            "1            1         NaN                         30           0.02   \n",
            "2            3         NaN                         35           0.08   \n",
            "3            4         NaN                         45           0.00   \n",
            "4            2         NaN                         25           0.05   \n",
            "\n",
            "   Other Environmental Factors  Accident Severity Index  \n",
            "0                            2                        1  \n",
            "1                            1                        2  \n",
            "2                            3                        3  \n",
            "3                            2                        2  \n",
            "4                            1                        3  \n",
            "\n",
            "Independent Variables (X):\n",
            "   Speed Limit  Average Speed  Road Surface Condition  Road Condition  \\\n",
            "0           60             65                       4               3   \n",
            "1           40             45                       3               2   \n",
            "2           70             75                       5               2   \n",
            "3           50             55                       4               2   \n",
            "4           80             85                       5               3   \n",
            "\n",
            "   Time of Day  Driver Age and experience  Alcohol Level  \\\n",
            "0            2                         40           0.00   \n",
            "1            1                         30           0.02   \n",
            "2            3                         35           0.08   \n",
            "3            4                         45           0.00   \n",
            "4            2                         25           0.05   \n",
            "\n",
            "   Other Environmental Factors  \n",
            "0                            2  \n",
            "1                            1  \n",
            "2                            3  \n",
            "3                            2  \n",
            "4                            1  \n",
            "\n",
            "Dependent Variable (y):\n",
            "0    1\n",
            "1    2\n",
            "2    3\n",
            "3    2\n",
            "4    3\n",
            "Name: Accident Severity Index, dtype: int64\n",
            "\n",
            "Shape of X_train: (4, 8)\n",
            "Shape of X_test: (1, 8)\n",
            "Shape of y_train: (4,)\n",
            "Shape of y_test: (1,)\n",
            "\n",
            "Model saved as 'road_accident_severity_model.pkl'\n",
            "\n",
            "Predicted Accident Severity Index: [5.44855605]\n"
          ]
        },
        {
          "output_type": "stream",
          "name": "stderr",
          "text": [
            "/usr/local/lib/python3.10/dist-packages/sklearn/base.py:439: UserWarning: X does not have valid feature names, but LinearRegression was fitted with feature names\n",
            "  warnings.warn(\n"
          ]
        }
      ]
    }
  ]
}